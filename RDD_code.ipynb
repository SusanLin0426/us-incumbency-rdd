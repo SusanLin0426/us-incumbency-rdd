{
 "cells": [
  {
   "cell_type": "code",
   "execution_count": 1,
   "metadata": {
    "scrolled": true
   },
   "outputs": [],
   "source": [
    "# import module\n",
    "from rdd import rdd\n",
    "from scipy.stats import binned_statistic\n",
    "import statsmodels.formula.api as smf\n",
    "import numpy as np\n",
    "import pandas as pd\n",
    "import matplotlib.pyplot as plt\n",
    "import seaborn as sns"
   ]
  },
  {
   "cell_type": "code",
   "execution_count": null,
   "metadata": {},
   "outputs": [],
   "source": [
    "# Import data as dataframe\n",
    "data = pd.read_csv(\"C:/Users/張翔竣/Desktop/US_election.csv\")\n",
    "demvoteshare = data.demvoteshare\n",
    "win_dem_t1 = data.win_dem_t1\n",
    "win_dem = data.win_dem\n",
    "threshold = 0.5\n",
    "df = pd.DataFrame({'win_dem_t1':win_dem_t1, \n",
    "                   'demvoteshare': demvoteshare,\n",
    "                   'win_dem': win_dem})"
   ]
  },
  {
   "cell_type": "code",
   "execution_count": 2,
   "metadata": {},
   "outputs": [
    {
     "name": "stdout",
     "output_type": "stream",
     "text": [
      "                            OLS Regression Results                            \n",
      "==============================================================================\n",
      "Dep. Variable:             win_dem_t1   R-squared:                       0.635\n",
      "Model:                            OLS   Adj. R-squared:                  0.635\n",
      "Method:                 Least Squares   F-statistic:                 1.628e+04\n",
      "Date:                Sat, 22 Jan 2022   Prob (F-statistic):               0.00\n",
      "Time:                        21:56:30   Log-Likelihood:                -1886.2\n",
      "No. Observations:                9345   AIC:                             3776.\n",
      "Df Residuals:                    9343   BIC:                             3791.\n",
      "Df Model:                           1                                         \n",
      "Covariance Type:            nonrobust                                         \n",
      "==============================================================================\n",
      "                 coef    std err          t      P>|t|      [0.025      0.975]\n",
      "------------------------------------------------------------------------------\n",
      "Intercept      0.1287      0.005     26.898      0.000       0.119       0.138\n",
      "win_dem        0.7948      0.006    127.608      0.000       0.783       0.807\n",
      "==============================================================================\n",
      "Omnibus:                     1072.062   Durbin-Watson:                   2.151\n",
      "Prob(Omnibus):                  0.000   Jarque-Bera (JB):            10712.481\n",
      "Skew:                          -0.046   Prob(JB):                         0.00\n",
      "Kurtosis:                       8.244   Cond. No.                         2.89\n",
      "==============================================================================\n",
      "\n",
      "Warnings:\n",
      "[1] Standard Errors assume that the covariance matrix of the errors is correctly specified.\n"
     ]
    }
   ],
   "source": [
    "# model 1 (graph omitted, supplied by STATA)\n",
    "model = smf.ols(formula = 'win_dem_t1 ~ win_dem',data = df)\n",
    "print(model.fit().summary())"
   ]
  },
  {
   "cell_type": "code",
   "execution_count": 5,
   "metadata": {},
   "outputs": [
    {
     "name": "stdout",
     "output_type": "stream",
     "text": [
      "                            OLS Regression Results                            \n",
      "==============================================================================\n",
      "Dep. Variable:                      y   R-squared:                       0.805\n",
      "Model:                            OLS   Adj. R-squared:                  0.803\n",
      "Method:                 Least Squares   F-statistic:                     474.8\n",
      "Date:                Sat, 22 Jan 2022   Prob (F-statistic):          9.55e-113\n",
      "Time:                        21:59:22   Log-Likelihood:                 146.84\n",
      "No. Observations:                 300   AIC:                            -285.7\n",
      "Df Residuals:                     296   BIC:                            -270.9\n",
      "Df Model:                           3                                         \n",
      "Covariance Type:                  HC1                                         \n",
      "===========================================================================================\n",
      "                              coef    std err          z      P>|z|      [0.025      0.975]\n",
      "-------------------------------------------------------------------------------------------\n",
      "Intercept                  -0.5216      0.248     -2.107      0.035      -1.007      -0.036\n",
      "C(Group)[T.Treatment]      -0.4405      0.399     -1.103      0.270      -1.223       0.342\n",
      "x                           1.5977      0.542      2.950      0.003       0.536       2.659\n",
      "C(Group)[T.Treatment]:x     1.6960      0.791      2.145      0.032       0.146       3.246\n",
      "==============================================================================\n",
      "Omnibus:                        5.883   Durbin-Watson:                   1.842\n",
      "Prob(Omnibus):                  0.053   Jarque-Bera (JB):                5.972\n",
      "Skew:                          -0.254   Prob(JB):                       0.0505\n",
      "Kurtosis:                       3.469   Cond. No.                         150.\n",
      "==============================================================================\n",
      "\n",
      "Warnings:\n",
      "[1] Standard Errors are heteroscedasticity robust (HC1)\n",
      "                            OLS Regression Results                            \n",
      "==============================================================================\n",
      "Dep. Variable:                      y   R-squared:                       0.805\n",
      "Model:                            OLS   Adj. R-squared:                  0.802\n",
      "Method:                 Least Squares   F-statistic:                     284.6\n",
      "Date:                Sat, 22 Jan 2022   Prob (F-statistic):          2.24e-110\n",
      "Time:                        21:59:22   Log-Likelihood:                 147.05\n",
      "No. Observations:                 300   AIC:                            -282.1\n",
      "Df Residuals:                     294   BIC:                            -259.9\n",
      "Df Model:                           5                                         \n",
      "Covariance Type:                  HC1                                         \n",
      "============================================================================================\n",
      "                               coef    std err          z      P>|z|      [0.025      0.975]\n",
      "--------------------------------------------------------------------------------------------\n",
      "Intercept                   -2.2435      5.865     -0.383      0.702     -13.739       9.252\n",
      "C(Group)[T.Treatment]       -3.4770      9.907     -0.351      0.726     -22.895      15.941\n",
      "x                            9.0652     25.499      0.356      0.722     -40.913      59.043\n",
      "C(Group)[T.Treatment]:x     11.9573     39.095      0.306      0.760     -64.668      88.582\n",
      "x2                          -8.0783     27.664     -0.292      0.770     -62.298      46.141\n",
      "C(Group)[T.Treatment]:x2    -8.4079     38.982     -0.216      0.829     -84.811      67.995\n",
      "==============================================================================\n",
      "Omnibus:                        5.763   Durbin-Watson:                   1.844\n",
      "Prob(Omnibus):                  0.056   Jarque-Bera (JB):                5.806\n",
      "Skew:                          -0.253   Prob(JB):                       0.0549\n",
      "Kurtosis:                       3.456   Cond. No.                     1.01e+04\n",
      "==============================================================================\n",
      "\n",
      "Warnings:\n",
      "[1] Standard Errors are heteroscedasticity robust (HC1)\n",
      "[2] The condition number is large, 1.01e+04. This might indicate that there are\n",
      "strong multicollinearity or other numerical problems.\n"
     ]
    }
   ],
   "source": [
    "# truncate the dataframe by optimal bandwidth, average the data with sample average within bin\n",
    "bandwidth_opt = rdd.optimal_bandwidth(df['win_dem_t1'], df['demvoteshare'], cut=threshold)  # 0.07559328871095955\n",
    "df_cutleft = df[df['demvoteshare'] >= 0.5 - bandwidth_opt]\n",
    "df_cutright = df_cutleft[df_cutleft['demvoteshare'] <= 0.5 + bandwidth_opt]\n",
    "df_bin = rdd.bin_data(df_cutright, 'win_dem_t1', 'demvoteshare', 300)\n",
    "demvoteshare_bin = df_bin.demvoteshare\n",
    "win_dem_t1_bin = df_bin.win_dem_t1\n",
    "df_bin = pd.DataFrame({'y':win_dem_t1_bin, \n",
    "                       'x': demvoteshare_bin, \n",
    "                      'x2': demvoteshare_bin.pow(2)})\n",
    "df_bin['Group'] = np.where(df_bin.x >= 0.5, \"Treatment\", \"Control\")\n",
    "\n",
    "# model 2: result (graph omitted, supplied by STATA)\n",
    "rd = \"y ~ 1 + x + C(Group) + C(Group) * x\"\n",
    "model = smf.ols(rd, df_bin).fit(cov_type='HC1')\n",
    "print(model.summary())\n",
    "\n",
    "# model 3: result (graph omitted, supplied by STATA)\n",
    "rd = \"y ~ 1 + x + x2 + C(Group) + C(Group)*x + C(Group)*x2\"\n",
    "model = smf.ols(rd, df_bin).fit(cov_type='HC1')\n",
    "print(model.summary())"
   ]
  }
 ],
 "metadata": {
  "kernelspec": {
   "display_name": "Python 3",
   "language": "python",
   "name": "python3"
  },
  "language_info": {
   "codemirror_mode": {
    "name": "ipython",
    "version": 3
   },
   "file_extension": ".py",
   "mimetype": "text/x-python",
   "name": "python",
   "nbconvert_exporter": "python",
   "pygments_lexer": "ipython3",
   "version": "3.7.4"
  }
 },
 "nbformat": 4,
 "nbformat_minor": 2
}
